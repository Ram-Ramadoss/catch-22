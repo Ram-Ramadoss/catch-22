{
 "cells": [
  {
   "cell_type": "code",
   "execution_count": 1,
   "metadata": {},
   "outputs": [
    {
     "name": "stdout",
     "output_type": "stream",
     "text": [
      "http://cal-access.sos.ca.gov/Campaign/Committees/DetailContributionsReceivedExcel.aspx?id=1422181&session=2019\n",
      "cal-access-data/1422181_SUPPORT/contributions_received1.xls\n",
      "http://cal-access.sos.ca.gov/Campaign/Committees/DetailLateExcel.aspx?id=1422181&session=2019&view=LATE1\n",
      "cal-access-data/1422181_SUPPORT/late_5000_contributions_received1.xls\n",
      "http://cal-access.sos.ca.gov/Campaign/Committees/DetailContributionsReceivedExcel.aspx?id=1424537&session=2019\n",
      "cal-access-data/1424537_OPPOSE/contributions_received1.xls\n",
      "http://cal-access.sos.ca.gov/Campaign/Committees/DetailLateExcel.aspx?id=1424537&session=2019&view=LATE1\n",
      "cal-access-data/1424537_OPPOSE/late_5000_contributions_received1.xls\n"
     ]
    }
   ],
   "source": [
    "# Collects funding data from Cal-Access website for main funding committee for each side\n",
    "## 1 is appended to the filenames so that files are not constantly overwritten. To refresh files, delete trailing 1s\n",
    "\n",
    "import requests\n",
    "yesCont='http://cal-access.sos.ca.gov/Campaign/Committees/DetailContributionsReceivedExcel.aspx?id=1422181&session=2019'\n",
    "yesLate='http://cal-access.sos.ca.gov/Campaign/Committees/DetailLateExcel.aspx?id=1422181&session=2019&view=LATE1'\n",
    "noCont='http://cal-access.sos.ca.gov/Campaign/Committees/DetailContributionsReceivedExcel.aspx?id=1424537&session=2019'\n",
    "noLate='http://cal-access.sos.ca.gov/Campaign/Committees/DetailLateExcel.aspx?id=1424537&session=2019&view=LATE1'\n",
    "links=[[yesCont,yesLate],[noCont,noLate]]\n",
    "folders=['cal-access-data/1422181_SUPPORT/','cal-access-data/1424537_OPPOSE/']\n",
    "files=['contributions_received1.xls','late_5000_contributions_received1.xls'] \n",
    "\n",
    "\n",
    "for i in range(2):\n",
    "    for j in range(2):\n",
    "        print (links[i][j])\n",
    "        print (folders[i]+files[j])\n",
    "\n",
    "        url = links[i][j]\n",
    "        filename=folders[i]+files[j]\n",
    "        r = requests.get(url, allow_redirects=True)\n",
    "        open(filename, 'wb').write(r.content)"
   ]
  },
  {
   "cell_type": "code",
   "execution_count": null,
   "metadata": {},
   "outputs": [],
   "source": []
  }
 ],
 "metadata": {
  "kernelspec": {
   "display_name": "Python 3",
   "language": "python",
   "name": "python3"
  },
  "language_info": {
   "codemirror_mode": {
    "name": "ipython",
    "version": 3
   },
   "file_extension": ".py",
   "mimetype": "text/x-python",
   "name": "python",
   "nbconvert_exporter": "python",
   "pygments_lexer": "ipython3",
   "version": "3.8.3"
  }
 },
 "nbformat": 4,
 "nbformat_minor": 4
}
